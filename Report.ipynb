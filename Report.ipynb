{
 "cells": [
  {
   "cell_type": "markdown",
   "metadata": {},
   "source": [
    "# Analysis of the correlation between Housing Sales Prices and Venues in the city of Toronto"
   ]
  },
  {
   "cell_type": "markdown",
   "metadata": {},
   "source": [
    "## Introduction"
   ]
  },
  {
   "cell_type": "markdown",
   "metadata": {},
   "source": [
    "A Real Estate agency based in the city of Toronto currently acts as a broker between the seller of a house and a buyer. Their business is doing well and they would like to expand their business into construction of new houses as well. While they know the cost per square foot of a house in each area, they would also like to know whether different venues surrounding the house affect the sale price so that they can effectively price their new developments.\n",
    "\n",
    "The data for sales prices of houses in various locations around Ontario is available on Kaggle and the agency plans to use Data Science to solve this problem."
   ]
  },
  {
   "cell_type": "markdown",
   "metadata": {},
   "source": [
    "## Data"
   ]
  },
  {
   "cell_type": "markdown",
   "metadata": {},
   "source": [
    "To carry out our analysis we will need to import a dataset on House Sales which is available here: \n",
    "https://www.kaggle.com/mnabaee/ontarioproperties/downloads/ontarioproperties.zip/1\n",
    "\n",
    "This dataset includes the listing prices for the sale of properties in Ontario which we can use to filter out only the entries for Toronto. \n",
    "\n",
    "We will also need to make calls to the Foursquare API to get access to the venues in a particular area which can be access by following the steps here:\n",
    "https://foursquare.com/\n",
    "    "
   ]
  },
  {
   "cell_type": "code",
   "execution_count": null,
   "metadata": {},
   "outputs": [],
   "source": []
  }
 ],
 "metadata": {
  "kernelspec": {
   "display_name": "Python 3",
   "language": "python",
   "name": "python3"
  },
  "language_info": {
   "codemirror_mode": {
    "name": "ipython",
    "version": 3
   },
   "file_extension": ".py",
   "mimetype": "text/x-python",
   "name": "python",
   "nbconvert_exporter": "python",
   "pygments_lexer": "ipython3",
   "version": "3.6.7"
  }
 },
 "nbformat": 4,
 "nbformat_minor": 4
}
